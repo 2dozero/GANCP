{
 "cells": [
  {
   "cell_type": "code",
   "execution_count": 1,
   "metadata": {
    "collapsed": false,
    "pycharm": {
     "name": "#%%\n"
    }
   },
   "outputs": [],
   "source": [
    "import sys;\n",
    "\n",
    "sys.path.append(\"../\")"
   ]
  },
  {
   "cell_type": "code",
   "execution_count": 2,
   "metadata": {
    "collapsed": false,
    "pycharm": {
     "name": "#%%\n"
    }
   },
   "outputs": [
    {
     "name": "stderr",
     "output_type": "stream",
     "text": [
      "Using backend: pytorch\n"
     ]
    }
   ],
   "source": [
    "import dgl\n",
    "import torch\n",
    "from math import floor\n",
    "import numpy as np\n",
    "\n",
    "from time import perf_counter\n",
    "\n",
    "from tqdm.auto import tqdm\n",
    "import hygese as hgs\n",
    "from torch.optim.lr_scheduler import CosineAnnealingWarmRestarts\n",
    "\n",
    "from src.utils.test_util import set_seed\n",
    "from src.data import generate_x_instance\n",
    "from src.data.generators.cvrp_instance.cvrp_from_mdvrp import generate_cvrp_instances\n",
    "from src.dgl.get_graph import get_knn_graph\n",
    "from src.dgl.dataset import GraphDataset, GraphDataLoader\n",
    "from src.dgl import Transformer"
   ]
  },
  {
   "cell_type": "markdown",
   "metadata": {
    "collapsed": false,
    "pycharm": {
     "name": "#%% md\n"
    }
   },
   "source": [
    "## Generate problems and solve them with `hygese`"
   ]
  },
  {
   "cell_type": "code",
   "execution_count": 3,
   "metadata": {
    "collapsed": false,
    "pycharm": {
     "name": "#%%\n"
    }
   },
   "outputs": [],
   "source": [
    "ap = hgs.AlgorithmParameters(timeLimit=0.1)\n",
    "hgs_solver = hgs.Solver(parameters=ap, verbose=False)"
   ]
  },
  {
   "cell_type": "code",
   "execution_count": 4,
   "metadata": {},
   "outputs": [],
   "source": [
    "n_problem = 100\n",
    "n_range = [15, 45]\n",
    "\n",
    "instances = []\n",
    "problem_count = 0\n",
    "while (problem_count < n_problem):\n",
    "    cvrp_list = generate_cvrp_instances(n_range)\n",
    "    for i in range(len(cvrp_list)):\n",
    "        problem = cvrp_list[i]\n",
    "        result = hgs_solver.solve_cvrp(problem, rounding=False)\n",
    "\n",
    "        instance = dict()\n",
    "        instance.update(problem)\n",
    "        instance['cost'] = float(result.cost)\n",
    "        instance['routes'] = result.routes\n",
    "        instances.append(instance)\n",
    "        problem_count += 1\n"
   ]
  },
  {
   "cell_type": "code",
   "execution_count": 5,
   "metadata": {
    "collapsed": false,
    "pycharm": {
     "name": "#%%\n"
    }
   },
   "outputs": [
    {
     "name": "stderr",
     "output_type": "stream",
     "text": [
      "100%|██████████| 32/32 [00:04<00:00,  7.22it/s]\n"
     ]
    }
   ],
   "source": [
    "n_problem = 32\n",
    "n_range = [11, 20]\n",
    "ns = np.random.randint(low=n_range[0], high=n_range[1], size=n_problem)\n",
    "\n",
    "instances = []\n",
    "for n in tqdm(ns):\n",
    "    # generate problem\n",
    "\n",
    "    problem = generate_x_instance(n)\n",
    "    result = hgs_solver.solve_cvrp(problem, rounding=False)\n",
    "\n",
    "    instance = dict()\n",
    "    instance.update(problem)\n",
    "    instance['cost'] = float(result.cost)\n",
    "    instance['routes'] = result.routes\n",
    "    instances.append(instance)"
   ]
  },
  {
   "cell_type": "code",
   "execution_count": 6,
   "metadata": {},
   "outputs": [
    {
     "data": {
      "text/plain": [
       "5667.996948691097"
      ]
     },
     "execution_count": 6,
     "metadata": {},
     "output_type": "execute_result"
    }
   ],
   "source": [
    "instances[0]['cost']"
   ]
  },
  {
   "cell_type": "markdown",
   "metadata": {
    "collapsed": false,
    "pycharm": {
     "name": "#%% md\n"
    }
   },
   "source": [
    "## Save problems and solutions on the disk"
   ]
  },
  {
   "cell_type": "code",
   "execution_count": 7,
   "metadata": {
    "collapsed": false,
    "pycharm": {
     "name": "#%%\n"
    }
   },
   "outputs": [],
   "source": [
    "def convert_to_train_data(data):\n",
    "    coord = np.stack([data['x_coordinates'], data['y_coordinates']], axis=1)  # [N, 2]\n",
    "    demand = data['demands']\n",
    "    q = data['vehicle_capacity']\n",
    "    cost = data.get('cost')\n",
    "    return coord, demand, q, cost\n",
    "    \n",
    "gs, ys, metadata = [], [], []\n",
    "for ins in instances:\n",
    "    coord, demand, q, cost = convert_to_train_data(ins)\n",
    "    g, y, md = get_knn_graph(coord=coord, demand=demand, q=q, cost=cost)\n",
    "    gs.append(g)\n",
    "    ys.append(y)\n",
    "    metadata.append(md)"
   ]
  },
  {
   "cell_type": "code",
   "execution_count": 8,
   "metadata": {
    "collapsed": false,
    "pycharm": {
     "name": "#%%\n"
    }
   },
   "outputs": [],
   "source": [
    "ys = torch.tensor(ys).float().view(-1, 1)\n",
    "labels = {'ys': ys}\n",
    "dgl.save_graphs('test.dgldat', gs, labels)"
   ]
  },
  {
   "cell_type": "markdown",
   "metadata": {
    "collapsed": false,
    "pycharm": {
     "name": "#%% md\n"
    }
   },
   "source": [
    "## Prepare training"
   ]
  },
  {
   "cell_type": "code",
   "execution_count": 9,
   "metadata": {
    "collapsed": false,
    "pycharm": {
     "name": "#%%\n"
    }
   },
   "outputs": [],
   "source": [
    "device = 'cpu' #torch.cuda.is_available() \n",
    "set_seed(2022, use_cuda='cpu' in device) #'cuda'\n",
    "\n",
    "# set up dataset and dataloader\n",
    "train_val_split = floor(n_problem * 0.8)\n",
    "train_gs, val_gs = gs[:train_val_split], gs[train_val_split:]\n",
    "train_ys, val_ys = ys[:train_val_split], ys[train_val_split:]"
   ]
  },
  {
   "cell_type": "code",
   "execution_count": 10,
   "metadata": {
    "collapsed": false,
    "pycharm": {
     "name": "#%%\n"
    }
   },
   "outputs": [],
   "source": [
    "train_ds = GraphDataset(train_gs, train_ys)\n",
    "train_dl = GraphDataLoader(train_ds, batch_size=4, shuffle=True)\n",
    "val_dl = GraphDataLoader(GraphDataset(val_gs, val_ys), batch_size=128)"
   ]
  },
  {
   "cell_type": "code",
   "execution_count": 11,
   "metadata": {
    "collapsed": false,
    "pycharm": {
     "name": "#%%\n"
    }
   },
   "outputs": [],
   "source": [
    "model = Transformer(in_dim=4, latent_dim=128, n_layers=4).to(device)\n",
    "opt = torch.optim.Adam(model.parameters(), lr=1e-3)\n",
    "scheduler = CosineAnnealingWarmRestarts(opt, T_0=32)\n",
    "loss_fn = torch.nn.MSELoss()\n",
    "test_fn = torch.nn.MSELoss()"
   ]
  },
  {
   "cell_type": "code",
   "execution_count": 12,
   "metadata": {
    "collapsed": false,
    "pycharm": {
     "name": "#%%\n"
    }
   },
   "outputs": [],
   "source": [
    "def MAPE(pred, target):\n",
    "    return ((target - pred).abs() / target.abs()).mean() * 100\n",
    "\n",
    "\n",
    "def evaluate(model, data_loader, eval_fns, device):\n",
    "    model.eval()\n",
    "\n",
    "    with torch.no_grad():\n",
    "        preds, ys = [], []\n",
    "        for g, y in data_loader:\n",
    "            g, y = g.to(device), y.to(device)\n",
    "            pred = model(g, g.ndata['feat'])\n",
    "            preds.append(pred)\n",
    "            ys.append(y)\n",
    "\n",
    "        preds = torch.cat(preds, dim=0)\n",
    "        ys = torch.cat(ys, dim=0)\n",
    "\n",
    "        losses = [eval_fn(preds, ys).item() for eval_fn in eval_fns]\n",
    "\n",
    "    model.train()\n",
    "    return losses\n",
    "\n",
    "\n",
    "def format_log(dict):\n",
    "    msg = ''\n",
    "    for k, v in dict.items():\n",
    "        if isinstance(v, int):\n",
    "            msg += '{}: {} | '.format(k, v)\n",
    "        else:\n",
    "            msg += '{}: {:.3e} | '.format(k, v)\n",
    "    return msg"
   ]
  },
  {
   "cell_type": "code",
   "execution_count": 13,
   "metadata": {
    "collapsed": false,
    "pycharm": {
     "name": "#%%\n"
    }
   },
   "outputs": [
    {
     "name": "stderr",
     "output_type": "stream",
     "text": [
      "/Users/abhaysobhanan/opt/anaconda3/lib/python3.9/site-packages/torch/autocast_mode.py:162: UserWarning: User provided device_type of 'cuda', but CUDA is not available. Disabling\n",
      "  warnings.warn('User provided device_type of \\'cuda\\', but CUDA is not available. Disabling')\n"
     ]
    },
    {
     "name": "stdout",
     "output_type": "stream",
     "text": [
      "4 th iter | loss: 2.448e+00 | fit_time: 7.527e-02 | lr: 9.785e-04 | epoch: 4 | train_mse: 5.789e+00 | train_mape: 9.175e+02 | val_mse: 5.489e+00 | val_mape: 8.938e+02 | eval_time: 4.571e-01 | \n",
      "9 th iter | loss: 1.829e-01 | fit_time: 7.677e-02 | lr: 9.157e-04 | epoch: 9 | train_mse: 6.109e-03 | train_mape: 2.420e+01 | val_mse: 9.347e-03 | val_mape: 2.982e+01 | eval_time: 4.544e-01 | \n",
      "14 th iter | loss: 1.497e-01 | fit_time: 7.970e-02 | lr: 8.172e-04 | epoch: 14 | train_mse: 1.657e-01 | train_mape: 1.552e+02 | val_mse: 1.677e-01 | val_mape: 1.547e+02 | eval_time: 4.555e-01 | \n",
      "19 th iter | loss: 1.351e-03 | fit_time: 7.494e-02 | lr: 6.913e-04 | epoch: 19 | train_mse: 2.158e-02 | train_mape: 5.077e+01 | val_mse: 1.880e-02 | val_mape: 4.692e+01 | eval_time: 4.535e-01 | \n"
     ]
    }
   ],
   "source": [
    "n_epoch = 20\n",
    "n_update = 0\n",
    "eval_every = 5\n",
    "\n",
    "best_test_mse = float('inf')\n",
    "for i in range(n_epoch):\n",
    "    for train_g, train_y in train_dl:\n",
    "        train_g, train_y = train_g.to(device), train_y.to(device).float()\n",
    "\n",
    "        start = perf_counter()\n",
    "        train_pred_y = model(train_g, train_g.ndata['feat'].float())\n",
    "        loss = loss_fn(train_pred_y, train_y)\n",
    "\n",
    "        opt.zero_grad()\n",
    "        loss.backward()\n",
    "        opt.step()\n",
    "        scheduler.step()\n",
    "        fit_time = perf_counter() - start\n",
    "        n_update += 1\n",
    "\n",
    "        log_dict = {\n",
    "            'loss': loss.item(),\n",
    "            'fit_time': fit_time,\n",
    "            'lr': opt.param_groups[0]['lr'],\n",
    "            'epoch': i\n",
    "        }\n",
    "\n",
    "    if n_update % eval_every == 0:\n",
    "        start = perf_counter()\n",
    "        train_perf = evaluate(model, train_dl,\n",
    "                              [test_fn, MAPE], device)\n",
    "        val_perf = evaluate(model, val_dl,\n",
    "                            [test_fn, MAPE], device)\n",
    "        eval_time = perf_counter() - start\n",
    "        log_dict['train_mse'] = train_perf[0]\n",
    "        log_dict['train_mape'] = train_perf[1]\n",
    "        log_dict['val_mse'] = val_perf[0]\n",
    "        log_dict['val_mape'] = val_perf[1]\n",
    "        log_dict['eval_time'] = eval_time\n",
    "        print('{} th iter | '.format(i) + format_log(log_dict))\n",
    "\n",
    "        if val_perf[0] < best_test_mse:\n",
    "            best_test_mse = val_perf[0]\n",
    "            torch.save(model.state_dict(), \"model_best.pt\".format(n_update))"
   ]
  },
  {
   "cell_type": "code",
   "execution_count": null,
   "metadata": {
    "collapsed": false,
    "pycharm": {
     "name": "#%%\n"
    }
   },
   "outputs": [],
   "source": []
  }
 ],
 "metadata": {
  "kernelspec": {
   "display_name": "Python 3.9.7 ('base')",
   "language": "python",
   "name": "python3"
  },
  "language_info": {
   "codemirror_mode": {
    "name": "ipython",
    "version": 3
   },
   "file_extension": ".py",
   "mimetype": "text/x-python",
   "name": "python",
   "nbconvert_exporter": "python",
   "pygments_lexer": "ipython3",
   "version": "3.9.7"
  },
  "vscode": {
   "interpreter": {
    "hash": "4b97225b3baf07f06810ceda8f8c4d2f6ff76d35153927f606e34c6cc639b446"
   }
  }
 },
 "nbformat": 4,
 "nbformat_minor": 4
}
